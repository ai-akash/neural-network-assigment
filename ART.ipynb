{
 "cells": [
  {
   "cell_type": "code",
   "execution_count": 2,
   "metadata": {},
   "outputs": [],
   "source": [
    "import numpy as np"
   ]
  },
  {
   "cell_type": "code",
   "execution_count": 101,
   "metadata": {},
   "outputs": [],
   "source": [
    "x =np.array([\n",
    "    [1, 1, 0, 0, 0, 0, 1],\n",
    "    [0, 0, 1, 1, 1, 1, 0],\n",
    "    [1, 0, 1, 1, 1, 1, 0],\n",
    "    [0, 0, 0, 1, 1, 1, 0],\n",
    "    [1, 1, 0, 1, 1, 1, 0]\n",
    "])"
   ]
  },
  {
   "cell_type": "code",
   "execution_count": 128,
   "metadata": {},
   "outputs": [],
   "source": [
    "def art(x,epoch,vp):\n",
    "    n = x.shape[1]\n",
    "    t = np.ones((n,1))\n",
    "    b = np.ones((1,n)) * 1/ (n+1)\n",
    "    association  = {}\n",
    "    for e in range(epoch):\n",
    "        for i in range(len(x)):\n",
    "            A = np.matmul(x[i],b.T)\n",
    "            while len(A) != 0 and str(x[i]) not in association:\n",
    "                max_index = np.argmax(A)\n",
    "                S = np.sum(x[i]*t[:,max_index])/ np.sum(x[i])\n",
    "                if S<= vp :\n",
    "                    A = np.delete(A, max_index)\n",
    "                else:\n",
    "                    association[str(x[i])] = max_index\n",
    "                    b[max_index] = t[:,max_index] *x[i]/(0.5 + sum(t[:,max_index] *x[i]))\n",
    "                    t[:,max_index] = t[:,max_index]*x[i]\n",
    "            if len(A) == 0:\n",
    "                tnew = x[i]\n",
    "                bnew = x[i] * 1/(0.5+np.sum(x[i]))\n",
    "                b = np.vstack((b,bnew))\n",
    "                t = np.hstack((t,tnew.reshape(-1,1)))\n",
    "    return association\n",
    "            "
   ]
  },
  {
   "cell_type": "code",
   "execution_count": 130,
   "metadata": {},
   "outputs": [
    {
     "data": {
      "text/plain": [
       "{'[1 1 0 0 0 0 1]': 0,\n",
       " '[1 0 1 1 1 1 0]': 1,\n",
       " '[0 0 0 1 1 1 0]': 1,\n",
       " '[0 0 1 1 1 1 0]': 1,\n",
       " '[1 1 0 1 1 1 0]': 2}"
      ]
     },
     "execution_count": 130,
     "metadata": {},
     "output_type": "execute_result"
    }
   ],
   "source": [
    "art(x,15,0.7)"
   ]
  }
 ],
 "metadata": {
  "kernelspec": {
   "display_name": "Python 3",
   "language": "python",
   "name": "python3"
  },
  "language_info": {
   "codemirror_mode": {
    "name": "ipython",
    "version": 3
   },
   "file_extension": ".py",
   "mimetype": "text/x-python",
   "name": "python",
   "nbconvert_exporter": "python",
   "pygments_lexer": "ipython3",
   "version": "3.6.5"
  }
 },
 "nbformat": 4,
 "nbformat_minor": 2
}
