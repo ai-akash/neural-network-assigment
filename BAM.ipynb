{
 "cells": [
  {
   "cell_type": "code",
   "execution_count": null,
   "metadata": {},
   "outputs": [],
   "source": []
  },
  {
   "cell_type": "code",
   "execution_count": 1,
   "metadata": {},
   "outputs": [],
   "source": [
    "import numpy as np"
   ]
  },
  {
   "cell_type": "code",
   "execution_count": 2,
   "metadata": {},
   "outputs": [],
   "source": [
    "\n",
    "X = np.array([\n",
    "    [1,-1,-1,-1,-1,1],\n",
    "    [-1,1,1,-1,-1,-1],\n",
    "    [-1,-1,1,-1,1,1],\n",
    "    ])\n",
    "\n",
    "Y = np.array([\n",
    "    [1,1,-1,-1,-1],\n",
    "    [1,-1,1,-1,-1],\n",
    "    [-1,1,1,1,-1]\n",
    "])"
   ]
  },
  {
   "cell_type": "code",
   "execution_count": 6,
   "metadata": {},
   "outputs": [],
   "source": [
    "corr_mat = np.dot(X.T,Y)"
   ]
  },
  {
   "cell_type": "code",
   "execution_count": 28,
   "metadata": {},
   "outputs": [],
   "source": [
    "def bipolar(a):\n",
    "    a[a>=0] = 1\n",
    "    a[a<0] = -1\n",
    "    return a"
   ]
  },
  {
   "cell_type": "code",
   "execution_count": 57,
   "metadata": {},
   "outputs": [],
   "source": [
    "def retrieve(x,mat):\n",
    "    h = np.matmul(x.T,mat)\n",
    "    beta1 = bipolar(h)\n",
    "    while True:   \n",
    "        alpha = bipolar(np.matmul(beta1,mat.T))\n",
    "        beta2 = bipolar(np.matmul(alpha , mat))\n",
    "        if (np.equal(beta1,beta2).all()):\n",
    "            return beta2\n",
    "        beta1 = beta2.copy()\n",
    "    \n",
    "    return bipolar(h1)"
   ]
  },
  {
   "cell_type": "code",
   "execution_count": 58,
   "metadata": {},
   "outputs": [
    {
     "data": {
      "text/plain": [
       "array([-1,  1,  1,  1, -1])"
      ]
     },
     "execution_count": 58,
     "metadata": {},
     "output_type": "execute_result"
    }
   ],
   "source": [
    "x = np.array([-1,-1,-1,-1,-1,-1])\n",
    "retrieve(x,corr_mat)"
   ]
  },
  {
   "cell_type": "code",
   "execution_count": null,
   "metadata": {},
   "outputs": [],
   "source": [
    "beta"
   ]
  },
  {
   "cell_type": "code",
   "execution_count": null,
   "metadata": {},
   "outputs": [],
   "source": []
  }
 ],
 "metadata": {
  "kernelspec": {
   "display_name": "Python 3",
   "language": "python",
   "name": "python3"
  },
  "language_info": {
   "codemirror_mode": {
    "name": "ipython",
    "version": 3
   },
   "file_extension": ".py",
   "mimetype": "text/x-python",
   "name": "python",
   "nbconvert_exporter": "python",
   "pygments_lexer": "ipython3",
   "version": "3.6.5"
  }
 },
 "nbformat": 4,
 "nbformat_minor": 2
}
