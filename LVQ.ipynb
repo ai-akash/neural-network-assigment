{
 "cells": [
  {
   "cell_type": "code",
   "execution_count": 14,
   "metadata": {
    "id": "miylPv68NfxE"
   },
   "outputs": [],
   "source": [
    "import numpy as np\n",
    "from scipy.spatial.distance import euclidean"
   ]
  },
  {
   "cell_type": "code",
   "execution_count": 50,
   "metadata": {
    "id": "zyvvezXfN3tF"
   },
   "outputs": [],
   "source": [
    "ip_vector=np.array([\n",
    "    [1,1,0,0],\n",
    "    [0,0,0,1],\n",
    "    [0,0,1,1],\n",
    "    [1,0,0,0],\n",
    "    [0,1,1,0]])\n",
    "\n",
    "op_class=np.array([1,2,2,1,1])\n",
    "alpha=0.1\n",
    "epoch =100"
   ]
  },
  {
   "cell_type": "code",
   "execution_count": 54,
   "metadata": {
    "id": "IwbR2K8bejrj"
   },
   "outputs": [],
   "source": [
    "def train(ip_array,target,epoch,alpha):\n",
    "    classes = np.unique(op_class)\n",
    "    w=np.random.rand(len(classes),ip_vector.shape[1])\n",
    "    for  x in range(epoch):\n",
    "        for each_input,t in zip(ip_array,target):\n",
    "            j = np.argmin([euclidean(each_input,wi) for wi in w]) #minimum distance index\n",
    "            if t == classes[j]:\n",
    "                w[j] = w[j] + alpha *(each_input - w[j])\n",
    "            else:\n",
    "                w[j] = w[j] - alpha *(each_input - w[j])   \n",
    "    return {\"weight\" : w,\"classes\":classes}"
   ]
  },
  {
   "cell_type": "code",
   "execution_count": 55,
   "metadata": {},
   "outputs": [],
   "source": [
    "weights = train(ip_vector,op_class,epoch,alpha)"
   ]
  },
  {
   "cell_type": "code",
   "execution_count": 56,
   "metadata": {},
   "outputs": [
    {
     "data": {
      "text/plain": [
       "{'weight': array([[ 6.30996310e-01,  6.67896679e-01,  3.69003690e-01,\n",
       "         -3.46567556e-15],\n",
       "        [ 4.52242360e-10,  8.19572248e-10,  5.26315790e-01,\n",
       "          1.00000000e+00]]), 'classes': array([1, 2])}"
      ]
     },
     "execution_count": 56,
     "metadata": {},
     "output_type": "execute_result"
    }
   ],
   "source": [
    "weights"
   ]
  },
  {
   "cell_type": "code",
   "execution_count": 61,
   "metadata": {},
   "outputs": [],
   "source": [
    "def test(x,y,w):\n",
    "    classes = w[\"classes\"]\n",
    "    weights = w[\"weight\"]\n",
    "    for each_input,t in zip(x,y):\n",
    "            j = np.argmin([euclidean(each_input,wi) for wi in weights]) #minimum distance index\n",
    "            print(f\"For input {each_input} Original output is {t} and predicted is {classes[j]}\")\n",
    "            if t == classes[j]:\n",
    "                print(\"correct Classify\")\n",
    "            else:\n",
    "                print(\"incorrect Classify\")\n",
    "            print()\n",
    "    \n",
    "    "
   ]
  },
  {
   "cell_type": "code",
   "execution_count": 62,
   "metadata": {},
   "outputs": [
    {
     "name": "stdout",
     "output_type": "stream",
     "text": [
      "For input [1 1 0 0] Original output is 1 and predicted is 1\n",
      "correct Classify\n",
      "\n",
      "For input [0 0 0 1] Original output is 2 and predicted is 2\n",
      "correct Classify\n",
      "\n",
      "For input [0 0 1 1] Original output is 2 and predicted is 2\n",
      "correct Classify\n",
      "\n",
      "For input [1 0 0 0] Original output is 1 and predicted is 1\n",
      "correct Classify\n",
      "\n",
      "For input [0 1 1 0] Original output is 1 and predicted is 1\n",
      "correct Classify\n",
      "\n"
     ]
    }
   ],
   "source": [
    "test(ip_vector,op_class,weights)"
   ]
  },
  {
   "cell_type": "code",
   "execution_count": null,
   "metadata": {},
   "outputs": [],
   "source": []
  },
  {
   "cell_type": "code",
   "execution_count": null,
   "metadata": {},
   "outputs": [],
   "source": []
  },
  {
   "cell_type": "code",
   "execution_count": null,
   "metadata": {},
   "outputs": [],
   "source": []
  },
  {
   "cell_type": "code",
   "execution_count": null,
   "metadata": {},
   "outputs": [],
   "source": []
  },
  {
   "cell_type": "code",
   "execution_count": null,
   "metadata": {},
   "outputs": [],
   "source": []
  }
 ],
 "metadata": {
  "colab": {
   "collapsed_sections": [],
   "name": "LVQ.ipynb",
   "provenance": []
  },
  "kernelspec": {
   "display_name": "Python 3",
   "language": "python",
   "name": "python3"
  },
  "language_info": {
   "codemirror_mode": {
    "name": "ipython",
    "version": 3
   },
   "file_extension": ".py",
   "mimetype": "text/x-python",
   "name": "python",
   "nbconvert_exporter": "python",
   "pygments_lexer": "ipython3",
   "version": "3.6.5"
  }
 },
 "nbformat": 4,
 "nbformat_minor": 1
}
