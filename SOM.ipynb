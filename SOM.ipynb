{
 "cells": [
  {
   "cell_type": "code",
   "execution_count": 1,
   "metadata": {},
   "outputs": [],
   "source": [
    "import numpy as np"
   ]
  },
  {
   "cell_type": "code",
   "execution_count": 41,
   "metadata": {},
   "outputs": [],
   "source": [
    "data = np.array([\n",
    "    [1,1,0,0],\n",
    "    [0,0,0,1],\n",
    "    [1,0,0,0],\n",
    "    [0,0,1,1]\n",
    "])\n",
    "m = 2\n",
    "lr = 0.6"
   ]
  },
  {
   "cell_type": "code",
   "execution_count": 47,
   "metadata": {},
   "outputs": [],
   "source": [
    "def train(data,m,iteration,lr):\n",
    "    weights  =  np.random.rand(m,data.shape[1])\n",
    "    for x in range(iteration):\n",
    "        for each_point in data:\n",
    "            min_d_index = np.argmin(np.sum(np.power(each_point-weights,2),axis = 1))\n",
    "            weights[min_d_index] = weights[min_d_index] + lr * (each_point - weights[min_d_index])\n",
    "    return weights\n",
    "            "
   ]
  },
  {
   "cell_type": "code",
   "execution_count": 48,
   "metadata": {},
   "outputs": [],
   "source": [
    "weights = train(data,m,50,lr)"
   ]
  },
  {
   "cell_type": "code",
   "execution_count": 44,
   "metadata": {},
   "outputs": [],
   "source": [
    "def get_cluster(data,weights):\n",
    "    min_d_index = np.argmin(np.sum(np.power(data-weights,2),axis = 1))\n",
    "    return min_d_index"
   ]
  },
  {
   "cell_type": "code",
   "execution_count": 49,
   "metadata": {},
   "outputs": [],
   "source": [
    "def test(data,weight):\n",
    "    out = []\n",
    "    for each in data:\n",
    "        i = get_cluster(each,weight)\n",
    "        out.append(f\"Cluster {i+1}\") \n",
    "    return out"
   ]
  },
  {
   "cell_type": "code",
   "execution_count": 50,
   "metadata": {},
   "outputs": [
    {
     "data": {
      "text/plain": [
       "['Cluster 2', 'Cluster 1', 'Cluster 2', 'Cluster 1']"
      ]
     },
     "execution_count": 50,
     "metadata": {},
     "output_type": "execute_result"
    }
   ],
   "source": [
    "test(data,weights)"
   ]
  },
  {
   "cell_type": "code",
   "execution_count": 52,
   "metadata": {},
   "outputs": [
    {
     "data": {
      "text/plain": [
       "1"
      ]
     },
     "execution_count": 52,
     "metadata": {},
     "output_type": "execute_result"
    }
   ],
   "source": [
    "get_cluster(np.array([0,0,0,0]),weights)"
   ]
  },
  {
   "cell_type": "code",
   "execution_count": null,
   "metadata": {},
   "outputs": [],
   "source": []
  }
 ],
 "metadata": {
  "kernelspec": {
   "display_name": "Python 3",
   "language": "python",
   "name": "python3"
  },
  "language_info": {
   "codemirror_mode": {
    "name": "ipython",
    "version": 3
   },
   "file_extension": ".py",
   "mimetype": "text/x-python",
   "name": "python",
   "nbconvert_exporter": "python",
   "pygments_lexer": "ipython3",
   "version": "3.6.5"
  }
 },
 "nbformat": 4,
 "nbformat_minor": 2
}
